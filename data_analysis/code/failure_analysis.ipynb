{
 "cells": [
  {
   "cell_type": "code",
   "execution_count": 1,
   "metadata": {},
   "outputs": [
    {
     "name": "stdout",
     "output_type": "stream",
     "text": [
      "248 complete the NASA-TLX\n",
      "248 complete the whole study\n",
      "{'AP-AE': 63, 'UP-UE': 60, 'UP-AE': 61, 'AP-UE': 64}\n"
     ]
    }
   ],
   "source": [
    "from util import load_user_data, task_ID_list_to_check\n",
    "import pandas as pd\n",
    "import numpy as np\n",
    "\n",
    "valid_users, tp_data = load_user_data(folder_name=\"../anonymized_data\", reserved_users=None)\n",
    "user2condition = tp_data['user2condition']\n",
    "condition_count = {}\n",
    "for user in valid_users:\n",
    "    tp_condition = user2condition[user]\n",
    "    if tp_condition not in condition_count:\n",
    "        condition_count[tp_condition] = 0\n",
    "    condition_count[tp_condition] += 1\n",
    "print(condition_count)"
   ]
  },
  {
   "cell_type": "code",
   "execution_count": 2,
   "metadata": {},
   "outputs": [],
   "source": [
    "from calc_measure_action_seq import diagnose_actions\n",
    "import json\n",
    "ground_truth_dict = tp_data['ground_truth']"
   ]
  },
  {
   "cell_type": "code",
   "execution_count": 3,
   "metadata": {},
   "outputs": [
    {
     "name": "stdout",
     "output_type": "stream",
     "text": [
      "Participant-5 test-675 Non-perfect one, but execution correct\n",
      "Participant-23 test-675 Non-perfect one, but execution correct\n",
      "Participant-122 test-675 Non-perfect one, but execution correct\n",
      "Participant-161 test-675 Non-perfect one, but execution correct\n",
      "Participant-52 test-675 Non-perfect one, but execution correct\n"
     ]
    }
   ],
   "source": [
    "user_expertise = tp_data[\"user_expertise\"]\n",
    "plan_quality = tp_data['plan_quality']\n",
    "user_cognitive_load = tp_data['cognitive_load']\n",
    "task_perfromance = tp_data['task_performance']\n",
    "user_TiA_scale = tp_data[\"trust_in_automation\"]\n",
    "risk_perception = tp_data['risk_perception']\n",
    "user_task_precise_action = tp_data['precise_action']\n",
    "expected_action_sequence = 0\n",
    "total = 0\n",
    "reason_dict = {}\n",
    "task_id_ct = {}\n",
    "for user in valid_users:\n",
    "    for task_id in task_ID_list_to_check:\n",
    "        tp_quality = plan_quality[user][task_id]\n",
    "        tp_acc_execution = task_perfromance[user][task_id][\"acc_execution\"]\n",
    "        tp_acc_strict = task_perfromance[user][task_id][\"acc_strict\"]\n",
    "        tp_acc_relaxed = task_perfromance[user][task_id][\"acc_relaxed\"]\n",
    "        if tp_quality == 5:\n",
    "            total += 1\n",
    "            if tp_acc_strict == 1.0:\n",
    "                expected_action_sequence += 1\n",
    "            else:\n",
    "                if tp_acc_execution == 1.0:\n",
    "                    print(user, task_id, \"Non-perfect one, but execution correct\")\n",
    "                else:\n",
    "                    action_seq = user_task_precise_action[user][task_id]\n",
    "                    if task_id not in task_id_ct:\n",
    "                        task_id_ct[task_id] = 0\n",
    "                    task_id_ct[task_id] += 1\n",
    "                    if tp_acc_relaxed == 1.0:\n",
    "                        reason_str = \"action parameter mismatch\"\n",
    "                    else:\n",
    "                        _, reason = diagnose_actions(task_id=task_id, action_sequence=action_seq, ground_truth=ground_truth_dict[task_id])\n",
    "                        # print(json.dumps(action_seq, indent=4))\n",
    "                        if len(reason) == 1:\n",
    "                            print(reason, user, task_id)\n",
    "                        reason_str = \"|\".join(reason)\n",
    "                    if reason_str not in reason_dict:\n",
    "                        reason_dict[reason_str] = 0\n",
    "                    reason_dict[reason_str] += 1"
   ]
  },
  {
   "cell_type": "code",
   "execution_count": 4,
   "metadata": {},
   "outputs": [
    {
     "name": "stdout",
     "output_type": "stream",
     "text": [
      "479 717\n",
      "{'test-497': 8, 'test-675': 199, 'test-388': 20, 'test-149': 3, 'test-859': 2, 'test-200': 1}\n",
      "{'Invalid Actionfail to predict|Action parameter mismatch|miss necessary action step': 36, 'action parameter mismatch': 100, 'Action parameter mismatch|miss necessary action step': 13, 'Invalid Actionfail to predict, templates|Invalid Actionfail to predict, templates|Invalid Actionfail to predict, templates|Invalid Actionfail to predict, templates|Action name mismatch|miss necessary action step': 4, 'Invalid Actionfail to predict, templates|Invalid Actionfail to predict, templates|Invalid Actionfail to predict, templates|Invalid Actionfail to predict, templates|Invalid Actionfail to predict, templates|Invalid Actionfail to predict, templates|Action name mismatch|miss necessary action step': 1, 'Invalid Actionfail to predict, templates|Action name mismatch|miss necessary action step': 28, 'Invalid Actionfail to predict, templates|Invalid Actionfail to predict, templates|Action name mismatch|miss necessary action step': 11, 'Invalid Actionfail to predict|Invalid Actionfail to predict, templates|Invalid Actionfail to predict, templates|Action name mismatch - skip|Action parameter mismatch|miss necessary action step': 1, 'Action name mismatch - skip|miss necessary action step': 3, 'Invalid Actionfail to predict|Invalid Actionfail to predict, templates|Action parameter mismatch|miss necessary action step': 9, 'Invalid Actionfail to predict|Invalid Actionfail to predict, templates|Invalid Actionfail to predict, templates|Invalid Actionfail to predict, templates|Action parameter mismatch|miss necessary action step': 2, 'Invalid Actionfail to predict|Invalid Actionfail to predict, templates|Invalid Actionfail to predict, templates|Action parameter mismatch|miss necessary action step': 2, 'Invalid Actionfail to predict, templates|Action parameter mismatch|miss necessary action step': 2, 'Invalid Actionfail to predict, templates|Invalid Actionfail to predict, templates|Invalid Actionfail to predict, templates|Invalid Actionfail to predict, templates|Invalid Actionfail to predict, templates|Action name mismatch|miss necessary action step': 1, 'Invalid Actionfail to predict, templates|Invalid Actionfail to predict, templates|Invalid Actionfail to predict, templates|Action parameter mismatch|miss necessary action step': 2, 'Invalid Actionfail to predict, templates|Invalid Actionfail to predict, templates|Invalid Actionfail to predict, templates|Action name mismatch|miss necessary action step': 2, 'Invalid Actionfail to predict, templates|Invalid Actionfail to predict, templates|Action parameter mismatch|miss necessary action step': 3, 'Invalid Actionempty attribute|Action parameter mismatch|miss necessary action step': 3, 'Invalid Actionfail to predict|Invalid Actionfail to predict|Action parameter mismatch|miss necessary action step': 2, 'Action name mismatch - skip|Action parameter mismatch|miss necessary action step': 2, 'Invalid Actionfail to predict, templates|Action name mismatch - skip|Action parameter mismatch|miss necessary action step': 1, 'Action name mismatch|miss necessary action step': 1, 'Invalid Actionfail to predict|Invalid Actionfail to predict, templates|Invalid Actionfail to predict, templates|Invalid Actionfail to predict, templates|Invalid Actionfail to predict, templates|Invalid Actionfail to predict, templates|Action parameter mismatch - skip|Action parameter mismatch|miss necessary action step': 1, 'Invalid Actionfail to predict|miss necessary action step': 1, 'Invalid Actionfail to predict|Invalid Actionfail to predict, templates|Invalid Actionfail to predict, templates|Invalid Actionfail to predict, templates|Invalid Actionfail to predict, templates|Action parameter mismatch|miss necessary action step': 1, 'Action parameter mismatch - skip|Action name mismatch|miss necessary action step': 1}\n"
     ]
    }
   ],
   "source": [
    "print(expected_action_sequence, total)\n",
    "print(task_id_ct)\n",
    "print(reason_dict)"
   ]
  },
  {
   "cell_type": "code",
   "execution_count": 5,
   "metadata": {},
   "outputs": [
    {
     "name": "stdout",
     "output_type": "stream",
     "text": [
      "action parameter mismatch\n",
      "100\n",
      "Action parameter mismatch|miss necessary action step\n",
      "13\n",
      "Action name mismatch - skip|miss necessary action step\n",
      "3\n",
      "Action name mismatch - skip|Action parameter mismatch|miss necessary action step\n",
      "2\n",
      "Action name mismatch|miss necessary action step\n",
      "1\n",
      "Action parameter mismatch - skip|Action name mismatch|miss necessary action step\n",
      "1\n",
      "233 113\n"
     ]
    }
   ],
   "source": [
    "total = 0\n",
    "invalid_action = 0\n",
    "for reason in reason_dict:\n",
    "    total += reason_dict[reason]\n",
    "    if \"Invalid\" in reason:\n",
    "        invalid_action += reason_dict[reason]\n",
    "    else:\n",
    "        print(reason)\n",
    "        print(reason_dict[reason])\n",
    "print(total, invalid_action)"
   ]
  },
  {
   "cell_type": "code",
   "execution_count": 7,
   "metadata": {},
   "outputs": [
    {
     "name": "stdout",
     "output_type": "stream",
     "text": [
      "0.48497854077253216\n",
      "0.4892703862660944\n"
     ]
    },
    {
     "data": {
      "text/plain": [
       "0.02575107296137339"
      ]
     },
     "execution_count": 7,
     "metadata": {},
     "output_type": "execute_result"
    }
   ],
   "source": [
    "print(113 / 233)\n",
    "print(114 / 233)\n",
    "(6) / 233"
   ]
  }
 ],
 "metadata": {
  "kernelspec": {
   "display_name": "base",
   "language": "python",
   "name": "python3"
  },
  "language_info": {
   "codemirror_mode": {
    "name": "ipython",
    "version": 3
   },
   "file_extension": ".py",
   "mimetype": "text/x-python",
   "name": "python",
   "nbconvert_exporter": "python",
   "pygments_lexer": "ipython3",
   "version": "3.9.7"
  }
 },
 "nbformat": 4,
 "nbformat_minor": 2
}
