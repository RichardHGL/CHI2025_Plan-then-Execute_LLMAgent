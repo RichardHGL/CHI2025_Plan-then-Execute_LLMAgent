{
 "cells": [
  {
   "cell_type": "code",
   "execution_count": 1,
   "metadata": {},
   "outputs": [
    {
     "name": "stdout",
     "output_type": "stream",
     "text": [
      "248 complete the NASA-TLX\n",
      "248 complete the whole study\n",
      "{'AP-AE': 63, 'UP-AE': 61, 'AP-UE': 64, 'UP-UE': 60}\n"
     ]
    }
   ],
   "source": [
    "from util import load_user_data, task_order\n",
    "import pandas as pd\n",
    "import numpy as np\n",
    "\n",
    "valid_users, tp_data = load_user_data(folder_name=\"../anonymized_data\", reserved_users=None)\n",
    "user2condition = tp_data['user2condition']\n",
    "user_planning_actions = tp_data['user_planning_actions']\n",
    "condition_count = {}\n",
    "for user in valid_users:\n",
    "    tp_condition = user2condition[user]\n",
    "    if tp_condition not in condition_count:\n",
    "        condition_count[tp_condition] = 0\n",
    "    condition_count[tp_condition] += 1\n",
    "print(condition_count)\n",
    "\n",
    "from util import load_data\n",
    "filename = \"../simplified_example_original.json\"\n",
    "task_ID_list, planning_task_dict = load_data(filename)\n"
   ]
  },
  {
   "cell_type": "code",
   "execution_count": 9,
   "metadata": {},
   "outputs": [
    {
     "name": "stdout",
     "output_type": "stream",
     "text": [
      "124\n",
      "10\n",
      "action_prediction 2739 124\n",
      "execute_action 2643 124\n",
      "Proceed 2199 124\n",
      "Next Step 1741 124\n",
      "Specify Action 445 105\n",
      "attention_check 125 124\n",
      "Feedback before execution 91 51\n",
      "user message 254 82\n",
      "Feedback after execution 163 65\n",
      "show_potential_actions 149 62\n"
     ]
    }
   ],
   "source": [
    "user_task_action = tp_data['user_task_action']\n",
    "event_dict = {}\n",
    "number_users = 0\n",
    "no_action_users = 0\n",
    "event_user = {}\n",
    "for user in valid_users:\n",
    "    tp_condition = user2condition[user]\n",
    "    if tp_condition.endswith(\"AE\"):\n",
    "        continue\n",
    "    number_users += 1\n",
    "    tp_dict = {}\n",
    "    for task_id in task_order:\n",
    "        for index, action in enumerate(user_task_action[user][task_id]):\n",
    "            action_event = action['action_event']\n",
    "            action_parameters = action['action_parameters']\n",
    "            if action_event not in event_dict:\n",
    "                event_dict[action_event] = 0\n",
    "            event_dict[action_event] += 1\n",
    "            if action_event not in tp_dict:\n",
    "                tp_dict[action_event] = 0\n",
    "            tp_dict[action_event] += 1\n",
    "    if \"Specify Action\" not in tp_dict:\n",
    "        if \"Feedback before execution\" not in tp_dict and \"Feedback after execution\" not in tp_dict:\n",
    "            no_action_users += 1\n",
    "    for event in tp_dict:\n",
    "        if event not in event_user:\n",
    "            event_user[event] = 0\n",
    "        event_user[event] += 1\n",
    "print(number_users)\n",
    "print(no_action_users)\n",
    "for event in event_dict:\n",
    "    print(event, event_dict[event], event_user[event])"
   ]
  }
 ],
 "metadata": {
  "kernelspec": {
   "display_name": "base",
   "language": "python",
   "name": "python3"
  },
  "language_info": {
   "codemirror_mode": {
    "name": "ipython",
    "version": 3
   },
   "file_extension": ".py",
   "mimetype": "text/x-python",
   "name": "python",
   "nbconvert_exporter": "python",
   "pygments_lexer": "ipython3",
   "version": "3.9.7"
  }
 },
 "nbformat": 4,
 "nbformat_minor": 2
}
