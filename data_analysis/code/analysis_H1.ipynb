{
 "cells": [
  {
   "cell_type": "code",
   "execution_count": 1,
   "metadata": {},
   "outputs": [
    {
     "name": "stdout",
     "output_type": "stream",
     "text": [
      "248 complete the NASA-TLX\n",
      "248 complete the whole study\n"
     ]
    }
   ],
   "source": [
    "from util import load_user_data\n",
    "import pandas as pd\n",
    "import numpy as np\n",
    "\n",
    "valid_users, tp_data = load_user_data(folder_name=\"../anonymized_data\", reserved_users=None)"
   ]
  },
  {
   "cell_type": "code",
   "execution_count": 2,
   "metadata": {},
   "outputs": [
    {
     "name": "stdout",
     "output_type": "stream",
     "text": [
      "{'AP-UE': 64, 'AP-AE': 63, 'UP-AE': 61, 'UP-UE': 60}\n"
     ]
    }
   ],
   "source": [
    "user2condition = tp_data['user2condition']\n",
    "condition_count = {}\n",
    "for user in valid_users:\n",
    "    tp_condition = user2condition[user]\n",
    "    if tp_condition not in condition_count:\n",
    "        condition_count[tp_condition] = 0\n",
    "    condition_count[tp_condition] += 1\n",
    "print(condition_count)"
   ]
  },
  {
   "cell_type": "code",
   "execution_count": 3,
   "metadata": {},
   "outputs": [],
   "source": [
    "variable_dict = {}\n",
    "trust_dimensions = [\"Reliability/Competence\", \"Understanding/Predictability\", \n",
    "                    \"Intention of Developers\", \"Trust in Automation\"]\n",
    "covariates_1 = [\"Propensity to Trust\", \"Familiarity\"]\n",
    "covariates = [\"llm_expertise\", \"assistant_expertise\"]\n",
    "all_conditions = [\"AP-AE\", \"AP-UE\", \"UP-AE\", \"UP-UE\"]\n",
    "condition_dict = {}\n",
    "for condition in all_conditions:\n",
    "    condition_dict[condition] = {}\n",
    "    for dimension in trust_dimensions:\n",
    "        condition_dict[condition][dimension] = []\n",
    "    condition_dict[condition][\"calibrated_trust_planning\"] = []\n",
    "    condition_dict[condition][\"calibrated_trust_execution\"] = []\n",
    "    condition_dict[condition][\"RAIR\"] = []\n",
    "    condition_dict[condition][\"RSR\"] = []\n",
    "\n",
    "for dimension in trust_dimensions:\n",
    "    variable_dict[dimension] = []\n",
    "for dimension in covariates_1:\n",
    "    variable_dict[dimension] = []\n",
    "for dimension in covariates:\n",
    "    variable_dict[dimension] = []\n",
    "\n",
    "user_expertise = tp_data[\"user_expertise\"]\n",
    "trust = tp_data[\"trust_in_automation\"]\n",
    "calibrated_trust_planning = tp_data[\"calibrated_trust_planning\"]\n",
    "calibrated_trust_execution = tp_data[\"calibrated_trust_execution\"]\n",
    "variable_dict[\"condition\"] = []\n",
    "variable_dict[\"planning\"] = []\n",
    "variable_dict[\"execution\"] = []\n",
    "variable_dict[\"calibrated_trust_planning\"] = []\n",
    "variable_dict[\"calibrated_trust_execution\"] = []\n",
    "for user in valid_users:\n",
    "    tp_condition = user2condition[user]\n",
    "    if tp_condition not in all_conditions:\n",
    "        # ignore pilot study\n",
    "        continue\n",
    "    variable_dict[\"condition\"].append(tp_condition)\n",
    "    if tp_condition.startswith(\"AP\"):\n",
    "        variable_dict[\"planning\"].append(\"automatic\")\n",
    "    else:\n",
    "        variable_dict[\"planning\"].append(\"user-involved\")\n",
    "    if tp_condition.endswith(\"AE\"):\n",
    "        variable_dict[\"execution\"].append(\"automatic\")\n",
    "    else:\n",
    "        variable_dict[\"execution\"].append(\"user-involved\")\n",
    "    variable_dict[\"calibrated_trust_planning\"].append(calibrated_trust_planning[user][\"avg\"])\n",
    "    condition_dict[tp_condition][\"calibrated_trust_planning\"].append(calibrated_trust_planning[user][\"avg\"])\n",
    "    variable_dict[\"calibrated_trust_execution\"].append(calibrated_trust_execution[user][\"avg\"])\n",
    "    condition_dict[tp_condition][\"calibrated_trust_execution\"].append(calibrated_trust_execution[user][\"avg\"])\n",
    "    for dimension in trust_dimensions:\n",
    "        variable_dict[dimension].append(trust[user][dimension])\n",
    "        condition_dict[tp_condition][dimension].append(trust[user][dimension])\n",
    "    for dimension in [\"Propensity to Trust\", \"Familiarity\"]:\n",
    "        variable_dict[dimension].append(trust[user][dimension])\n",
    "    for dimension in covariates:\n",
    "        variable_dict[dimension].append(user_expertise[user][dimension])\n",
    "df = pd.DataFrame(variable_dict)"
   ]
  },
  {
   "cell_type": "code",
   "execution_count": 4,
   "metadata": {},
   "outputs": [
    {
     "name": "stdout",
     "output_type": "stream",
     "text": [
      "     Source  ddof1  ddof2      F  p-unc   n2\n",
      "0  planning      1    246  0.063  0.802  0.0\n",
      "AP-AE 0.5052910052910052\n",
      "AP-UE 0.49479166666666663\n",
      "UP-AE 0.4972677595628415\n",
      "UP-UE 0.4944444444444444\n",
      "-----------------\n"
     ]
    },
    {
     "name": "stderr",
     "output_type": "stream",
     "text": [
      "/Users/ghe/opt/anaconda3/lib/python3.9/site-packages/outdated/utils.py:14: OutdatedPackageWarning: The package pingouin is out of date. Your version is 0.5.3, the latest is 0.5.5.\n",
      "Set the environment variable OUTDATED_IGNORE=1 to disable these warnings.\n",
      "  return warn(\n"
     ]
    }
   ],
   "source": [
    "from pingouin import ancova, anova\n",
    "from statsmodels.stats.multicomp import pairwise_tukeyhsd\n",
    "dimension = \"calibrated_trust_planning\"\n",
    "# aov = anova(dv=dimension, between=['planning', 'execution'], data=df, effsize='n2')\n",
    "aov = anova(dv=dimension, between=['planning'], data=df, effsize='n2')\n",
    "# aov = ancova(dv=dimension, covar=[\"Propensity to Trust\", \"Familiarity\", \"llm_expertise\", \"assistant_expertise\"], between='planning', data=df, effsize='n2')\n",
    "print(aov.round(3))\n",
    "if aov.to_dict()['p-unc'][0] <= 0.05 / 4:\n",
    "    tukey = pairwise_tukeyhsd(endog=df[dimension], groups=df['planning'], alpha=0.0125)\n",
    "    print(tukey)\n",
    "for condition in all_conditions:\n",
    "    print(condition, np.mean(condition_dict[condition][dimension]))\n",
    "print(\"-\" * 17)"
   ]
  },
  {
   "cell_type": "code",
   "execution_count": 11,
   "metadata": {},
   "outputs": [
    {
     "name": "stdout",
     "output_type": "stream",
     "text": [
      "                 Source     SS     DF     MS      F  p-unc     n2\n",
      "0              planning  0.054    1.0  0.054  1.423  0.234  0.006\n",
      "1             execution  0.001    1.0  0.001  0.023  0.878  0.000\n",
      "2  planning * execution  0.013    1.0  0.013  0.340  0.560  0.001\n",
      "3              Residual  9.271  244.0  0.038    NaN    NaN    NaN\n",
      "AP-AE 0.6587301587301588\n",
      "AP-UE 0.6484375\n",
      "UP-AE 0.6147540983606558\n",
      "UP-UE 0.6333333333333333\n",
      "-----------------\n"
     ]
    }
   ],
   "source": [
    "from pingouin import ancova, anova\n",
    "from statsmodels.stats.multicomp import pairwise_tukeyhsd\n",
    "dimension = \"calibrated_trust_execution\"\n",
    "aov = anova(dv=dimension, between=['planning', 'execution'], data=df, effsize='n2')\n",
    "# aov = anova(dv=dimension, between=['execution'], data=df, effsize='n2')\n",
    "# aov = ancova(dv=dimension, covar=[\"Propensity to Trust\", \"Familiarity\", \"llm_expertise\", \"assistant_expertise\"], between='execution', data=df, effsize='n2')\n",
    "print(aov.round(3))\n",
    "if aov.to_dict()['p-unc'][0] <= 0.05 / 4:\n",
    "    tukey = pairwise_tukeyhsd(endog=df[dimension], groups=df['condition'], alpha=0.0125)\n",
    "    print(tukey)\n",
    "for condition in all_conditions:\n",
    "    print(condition, np.mean(condition_dict[condition][dimension]))\n",
    "print(\"-\" * 17)"
   ]
  }
 ],
 "metadata": {
  "kernelspec": {
   "display_name": "Flask_dev",
   "language": "python",
   "name": "python3"
  },
  "language_info": {
   "codemirror_mode": {
    "name": "ipython",
    "version": 3
   },
   "file_extension": ".py",
   "mimetype": "text/x-python",
   "name": "python",
   "nbconvert_exporter": "python",
   "pygments_lexer": "ipython3",
   "version": "3.9.7"
  }
 },
 "nbformat": 4,
 "nbformat_minor": 2
}
