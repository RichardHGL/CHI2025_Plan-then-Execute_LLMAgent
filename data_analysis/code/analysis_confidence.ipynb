{
 "cells": [
  {
   "cell_type": "code",
   "execution_count": 1,
   "metadata": {},
   "outputs": [
    {
     "name": "stdout",
     "output_type": "stream",
     "text": [
      "248 complete the NASA-TLX\n",
      "248 complete the whole study\n",
      "{'AP-AE': 63, 'AP-UE': 64, 'UP-UE': 60, 'UP-AE': 61}\n"
     ]
    }
   ],
   "source": [
    "from util import load_user_data, task_ID_list_to_check\n",
    "import pandas as pd\n",
    "import numpy as np\n",
    "\n",
    "valid_users, tp_data = load_user_data(folder_name=\"../anonymized_data\", reserved_users=None)\n",
    "user2condition = tp_data['user2condition']\n",
    "condition_count = {}\n",
    "for user in valid_users:\n",
    "    tp_condition = user2condition[user]\n",
    "    if tp_condition not in condition_count:\n",
    "        condition_count[tp_condition] = 0\n",
    "    condition_count[tp_condition] += 1\n",
    "print(condition_count)"
   ]
  },
  {
   "cell_type": "code",
   "execution_count": 2,
   "metadata": {},
   "outputs": [],
   "source": [
    "user_task_confidence_dict = tp_data['confidence']\n",
    "user_task_order = tp_data['task_order']\n",
    "all_conditions = [\"AP-AE\", \"AP-UE\", \"UP-AE\", \"UP-UE\"]\n",
    "variable_dict = {\n",
    "    \"condition\": [],\n",
    "    \"planning\": [],\n",
    "    \"execution\": [],\n",
    "    \"confidence_planning\": [],\n",
    "    \"confidence_execution\": []\n",
    "}\n",
    "condition_count = {}\n",
    "for user in valid_users:\n",
    "    tp_condition = user2condition[user]\n",
    "    tp_task_order = user_task_order[user]\n",
    "    tp_list_1 = []\n",
    "    tp_list_2 = []\n",
    "    for index, task_id in enumerate(tp_task_order):\n",
    "        confidence_planning = user_task_confidence_dict[user][task_id][\"planning\"]\n",
    "        confidence_execution = user_task_confidence_dict[user][task_id][\"execution\"]\n",
    "        tp_list_1.append(confidence_planning)\n",
    "        tp_list_2.append(confidence_execution)\n",
    "    variable_dict[\"condition\"].append(tp_condition)\n",
    "    planning, execution = tp_condition.split(\"-\")\n",
    "    variable_dict[\"planning\"].append(planning)\n",
    "    variable_dict[\"execution\"].append(execution)\n",
    "    variable_dict[\"confidence_planning\"].append(np.mean(tp_list_1))\n",
    "    variable_dict[\"confidence_execution\"].append(np.mean(tp_list_2))"
   ]
  },
  {
   "cell_type": "code",
   "execution_count": 3,
   "metadata": {},
   "outputs": [
    {
     "data": {
      "text/html": [
       "<div>\n",
       "<style scoped>\n",
       "    .dataframe tbody tr th:only-of-type {\n",
       "        vertical-align: middle;\n",
       "    }\n",
       "\n",
       "    .dataframe tbody tr th {\n",
       "        vertical-align: top;\n",
       "    }\n",
       "\n",
       "    .dataframe thead th {\n",
       "        text-align: right;\n",
       "    }\n",
       "</style>\n",
       "<table border=\"1\" class=\"dataframe\">\n",
       "  <thead>\n",
       "    <tr style=\"text-align: right;\">\n",
       "      <th></th>\n",
       "      <th>condition</th>\n",
       "      <th>planning</th>\n",
       "      <th>execution</th>\n",
       "      <th>confidence_planning</th>\n",
       "      <th>confidence_execution</th>\n",
       "    </tr>\n",
       "  </thead>\n",
       "  <tbody>\n",
       "    <tr>\n",
       "      <th>0</th>\n",
       "      <td>AP-AE</td>\n",
       "      <td>AP</td>\n",
       "      <td>AE</td>\n",
       "      <td>2.666667</td>\n",
       "      <td>2.666667</td>\n",
       "    </tr>\n",
       "    <tr>\n",
       "      <th>1</th>\n",
       "      <td>AP-AE</td>\n",
       "      <td>AP</td>\n",
       "      <td>AE</td>\n",
       "      <td>4.500000</td>\n",
       "      <td>3.666667</td>\n",
       "    </tr>\n",
       "    <tr>\n",
       "      <th>2</th>\n",
       "      <td>AP-AE</td>\n",
       "      <td>AP</td>\n",
       "      <td>AE</td>\n",
       "      <td>5.000000</td>\n",
       "      <td>4.833333</td>\n",
       "    </tr>\n",
       "    <tr>\n",
       "      <th>3</th>\n",
       "      <td>AP-AE</td>\n",
       "      <td>AP</td>\n",
       "      <td>AE</td>\n",
       "      <td>4.500000</td>\n",
       "      <td>4.833333</td>\n",
       "    </tr>\n",
       "    <tr>\n",
       "      <th>4</th>\n",
       "      <td>AP-UE</td>\n",
       "      <td>AP</td>\n",
       "      <td>UE</td>\n",
       "      <td>3.666667</td>\n",
       "      <td>3.833333</td>\n",
       "    </tr>\n",
       "  </tbody>\n",
       "</table>\n",
       "</div>"
      ],
      "text/plain": [
       "  condition planning execution  confidence_planning  confidence_execution\n",
       "0     AP-AE       AP        AE             2.666667              2.666667\n",
       "1     AP-AE       AP        AE             4.500000              3.666667\n",
       "2     AP-AE       AP        AE             5.000000              4.833333\n",
       "3     AP-AE       AP        AE             4.500000              4.833333\n",
       "4     AP-UE       AP        UE             3.666667              3.833333"
      ]
     },
     "execution_count": 3,
     "metadata": {},
     "output_type": "execute_result"
    }
   ],
   "source": [
    "df = pd.DataFrame(variable_dict)\n",
    "df.head()"
   ]
  },
  {
   "cell_type": "code",
   "execution_count": 9,
   "metadata": {},
   "outputs": [
    {
     "name": "stdout",
     "output_type": "stream",
     "text": [
      "                 Source       SS     DF     MS       F  p-unc     n2\n",
      "0              planning    6.076    1.0  6.076  13.962  0.000  0.053\n",
      "1             execution    0.845    1.0  0.845   1.942  0.165  0.007\n",
      "2  planning * execution    1.146    1.0  1.146   2.634  0.106  0.010\n",
      "3              Residual  106.192  244.0  0.435     NaN    NaN    NaN\n",
      "Multiple Comparison of Means - Tukey HSD, FWER=0.01 \n",
      "====================================================\n",
      "group1 group2 meandiff p-adj   lower   upper  reject\n",
      "----------------------------------------------------\n",
      " AP-AE  AP-UE  -0.2495 0.1462 -0.6094  0.1104  False\n",
      " AP-AE  UP-AE  -0.4491 0.0011 -0.8134 -0.0848   True\n",
      " AP-AE  UP-UE  -0.4266 0.0023 -0.7924 -0.0607   True\n",
      " AP-UE  UP-AE  -0.1996 0.3306 -0.5625  0.1633  False\n",
      " AP-UE  UP-UE  -0.1771 0.4428 -0.5415  0.1874  False\n",
      " UP-AE  UP-UE   0.0225 0.9976 -0.3462  0.3913  False\n",
      "----------------------------------------------------\n",
      "condition\n",
      "AP-AE    4.134921\n",
      "AP-UE    3.885417\n",
      "UP-AE    3.685792\n",
      "UP-UE    3.708333\n",
      "Name: confidence_planning, dtype: float64\n",
      "-----------------\n"
     ]
    }
   ],
   "source": [
    "from pingouin import ancova, anova\n",
    "from statsmodels.stats.multicomp import pairwise_tukeyhsd\n",
    "dimension = \"confidence_planning\"\n",
    "aov = anova(dv=dimension, between=['planning', 'execution'], data=df, effsize='n2')\n",
    "# aov = ancova(dv=dimension, covar=[\"Propensity to Trust\", \"Familiarity\", \"llm_expertise\", \"assistant_expertise\"], between=['planning', 'execution'], data=df, effsize='n2')\n",
    "print(aov.round(3))\n",
    "if aov.to_dict()['p-unc'][0] <= 0.05 / 4:\n",
    "    tukey = pairwise_tukeyhsd(endog=df[dimension], groups=df['condition'], alpha=0.0125)\n",
    "    print(tukey)\n",
    "# for condition in all_conditions:\n",
    "#     print(condition, np.mean(condition_dict[condition][dimension]))\n",
    "mean_value = df.groupby('condition').mean()[dimension]\n",
    "print(mean_value)\n",
    "print(\"-\" * 17)"
   ]
  },
  {
   "cell_type": "code",
   "execution_count": 8,
   "metadata": {},
   "outputs": [
    {
     "name": "stdout",
     "output_type": "stream",
     "text": [
      "                 Source      SS     DF     MS      F  p-unc     n2\n",
      "0              planning   2.735    1.0  2.735  6.872  0.009  0.026\n",
      "1             execution   3.247    1.0  3.247  8.158  0.005  0.031\n",
      "2  planning * execution   1.156    1.0  1.156  2.905  0.090  0.011\n",
      "3              Residual  97.106  244.0  0.398    NaN    NaN    NaN\n",
      "Multiple Comparison of Means - Tukey HSD, FWER=0.01 \n",
      "====================================================\n",
      "group1 group2 meandiff p-adj   lower   upper  reject\n",
      "----------------------------------------------------\n",
      " AP-AE  AP-UE  -0.3621 0.0075 -0.7063  -0.018   True\n",
      " AP-AE  UP-AE  -0.3466 0.0131  -0.695  0.0017  False\n",
      " AP-AE  UP-UE  -0.4356 0.0009 -0.7854 -0.0857   True\n",
      " AP-UE  UP-AE   0.0155 0.9991 -0.3315  0.3625  False\n",
      " AP-UE  UP-UE  -0.0734 0.9162 -0.4219  0.2751  False\n",
      " UP-AE  UP-UE  -0.0889 0.8656 -0.4416  0.2637  False\n",
      "----------------------------------------------------\n",
      "condition\n",
      "AP-AE    4.343915\n",
      "AP-UE    3.981771\n",
      "UP-AE    3.997268\n",
      "UP-UE    3.908333\n",
      "Name: confidence_execution, dtype: float64\n",
      "-----------------\n"
     ]
    }
   ],
   "source": [
    "from pingouin import ancova, anova\n",
    "from statsmodels.stats.multicomp import pairwise_tukeyhsd\n",
    "dimension = \"confidence_execution\"\n",
    "aov = anova(dv=dimension, between=['planning', 'execution'], data=df, effsize='n2')\n",
    "# aov = ancova(dv=dimension, covar=[\"Propensity to Trust\", \"Familiarity\", \"llm_expertise\", \"assistant_expertise\"], between=['planning', 'execution'], data=df, effsize='n2')\n",
    "print(aov.round(3))\n",
    "if aov.to_dict()['p-unc'][0] <= 0.05 / 4:\n",
    "    tukey = pairwise_tukeyhsd(endog=df[dimension], groups=df['condition'], alpha=0.0125)\n",
    "    print(tukey)\n",
    "# for condition in all_conditions:\n",
    "#     print(condition, np.mean(condition_dict[condition][dimension]))\n",
    "mean_value = df.groupby('condition').mean()[dimension]\n",
    "print(mean_value)\n",
    "print(\"-\" * 17)"
   ]
  }
 ],
 "metadata": {
  "kernelspec": {
   "display_name": "base",
   "language": "python",
   "name": "python3"
  },
  "language_info": {
   "codemirror_mode": {
    "name": "ipython",
    "version": 3
   },
   "file_extension": ".py",
   "mimetype": "text/x-python",
   "name": "python",
   "nbconvert_exporter": "python",
   "pygments_lexer": "ipython3",
   "version": "3.9.7"
  }
 },
 "nbformat": 4,
 "nbformat_minor": 2
}
