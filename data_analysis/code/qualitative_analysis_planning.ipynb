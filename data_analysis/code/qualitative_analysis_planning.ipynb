{
 "cells": [
  {
   "cell_type": "code",
   "execution_count": 1,
   "metadata": {},
   "outputs": [
    {
     "name": "stdout",
     "output_type": "stream",
     "text": [
      "248 complete the NASA-TLX\n",
      "248 complete the whole study\n",
      "{'UP-UE': 60, 'AP-UE': 64, 'AP-AE': 63, 'UP-AE': 61}\n"
     ]
    }
   ],
   "source": [
    "from util import load_user_data, task_ID_list_to_check\n",
    "import pandas as pd\n",
    "import numpy as np\n",
    "\n",
    "valid_users, tp_data = load_user_data(folder_name=\"../anonymized_data\", reserved_users=None)\n",
    "user2condition = tp_data['user2condition']\n",
    "user_planning_actions = tp_data['user_planning_actions']\n",
    "condition_count = {}\n",
    "for user in valid_users:\n",
    "    tp_condition = user2condition[user]\n",
    "    if tp_condition not in condition_count:\n",
    "        condition_count[tp_condition] = 0\n",
    "    condition_count[tp_condition] += 1\n",
    "print(condition_count)\n",
    "\n",
    "from util import load_data\n",
    "filename = \"../simplified_example_original.json\"\n",
    "task_ID_list, planning_task_dict = load_data(filename)\n"
   ]
  },
  {
   "cell_type": "code",
   "execution_count": 2,
   "metadata": {},
   "outputs": [],
   "source": [
    "for user in valid_users:\n",
    "    if user2condition[user] in [\"AP-AE\", \"AP-UE\"]:\n",
    "        continue\n",
    "    if user not in user_planning_actions:\n",
    "        print(f\"{user} does not contain any planning edits\")\n",
    "        continue\n",
    "    for task_id in task_ID_list_to_check:\n",
    "        if task_id not in user_planning_actions[user]:\n",
    "            print(f\"{user} does not contain planning edits for task {task_id}\")"
   ]
  },
  {
   "cell_type": "code",
   "execution_count": 3,
   "metadata": {},
   "outputs": [],
   "source": [
    "def compare_plan(plan_1, plan_2):\n",
    "    if len(plan_1) != len(plan_2):\n",
    "        return False\n",
    "    length = len(plan_1)\n",
    "    for index in range(length):\n",
    "        step_1 = plan_1[index]\n",
    "        step_2 = plan_2[index]\n",
    "        step_text_1 = step_1['step'].strip()\n",
    "        step_text_2 = step_2['step'].strip()\n",
    "        if step_text_1 == step_text_2 and step_1['index'] == step_2['index']:\n",
    "            pass\n",
    "        else:\n",
    "            return False\n",
    "    # Both length and all steps are the same\n",
    "    return True\n",
    "\n",
    "def check_plan_new(tp_plan_str):\n",
    "    tp_plan = tp_plan_str.strip().split(\"\\n\")\n",
    "    new_plan = []\n",
    "    for step in tp_plan:\n",
    "        # plan_text = step[\"step\"]\n",
    "        plan_text = step\n",
    "        index = plan_text.split(\" \")[0]\n",
    "        plan_text = plan_text[len(index)+1:]\n",
    "        if len(index.split(\".\")) == 3:\n",
    "            # x.y.z\n",
    "            data_level = 3\n",
    "        elif index[-1] == \".\":\n",
    "            # x.\n",
    "            data_level = 1\n",
    "        else:\n",
    "            # x.y\n",
    "            data_level = 2\n",
    "        tp_obj = {\n",
    "            \"step\": plan_text,\n",
    "            \"data_level\": data_level,\n",
    "            \"index\": index\n",
    "            # \"tool\": step[\"tool\"]\n",
    "        }\n",
    "        new_plan.append(tp_obj)\n",
    "    return new_plan\n"
   ]
  },
  {
   "cell_type": "code",
   "execution_count": 4,
   "metadata": {},
   "outputs": [
    {
     "name": "stdout",
     "output_type": "stream",
     "text": [
      "104 users edit the plan with text edit or buttons\n",
      "90 users edit the plan with provided buttons\n",
      "241 times edit the plan with provided buttons\n",
      "{'plan|delete_step': 394, 'plan|add_step': 183, 'plan|split_step': 126}\n",
      "{'test-149': 60, 'test-200': 62, 'test-675': 48, 'test-859': 51, 'test-388': 44, 'test-497': 45}\n"
     ]
    }
   ],
   "source": [
    "import json\n",
    "diff_user_set = set()\n",
    "tp_user_set = set()\n",
    "number_user_task = 0\n",
    "action_dict = {}\n",
    "user_task_plan = tp_data['user_task_plan']\n",
    "task_edit_freq = {}\n",
    "for user in valid_users:\n",
    "    if user2condition[user] in [\"AP-AE\", \"AP-UE\"]:\n",
    "        continue\n",
    "    for task_id in task_ID_list_to_check:\n",
    "        planning_actions = user_planning_actions[user][task_id]\n",
    "        if isinstance(planning_actions, str):\n",
    "            tp_plan = check_plan_new(user_task_plan[user][task_id])\n",
    "            original_plan = planning_task_dict[task_id].plan\n",
    "            flag = compare_plan(plan_1=original_plan, plan_2=tp_plan)\n",
    "            if not flag:\n",
    "                diff_user_set.add(user)\n",
    "                if task_id not in task_edit_freq:\n",
    "                    task_edit_freq[task_id] = 0\n",
    "                task_edit_freq[task_id] += 1\n",
    "            planning_actions = json.loads(planning_actions)\n",
    "            assert isinstance(planning_actions, list)\n",
    "            # if len(planning_actions) == 0:\n",
    "            #     print(f\"{user} make no add/split/delete on task {task_id}\")\n",
    "            if len(planning_actions) > 0:\n",
    "                # print(user, task_id, planning_actions)\n",
    "                flag = False\n",
    "                for action in planning_actions:\n",
    "                    action_name = action['action_event']\n",
    "                    if action_name in [\"show_potential_actions\", 'action_prediction', 'Proceed', 'execute_action', 'Next Step']:\n",
    "                        continue\n",
    "                    if action_name not in action_dict:\n",
    "                        action_dict[action_name] = 0\n",
    "                    action_dict[action_name] += 1\n",
    "                    flag = True\n",
    "                if flag:\n",
    "                    tp_user_set.add(user)\n",
    "                    number_user_task += 1\n",
    "        else:\n",
    "            assert isinstance(planning_actions, list)\n",
    "            if len(planning_actions) == 0:\n",
    "                print(f\"{user} make no add/split/delete on task {task_id}\")\n",
    "            else:\n",
    "                print(\"Unknown case\", planning_actions)\n",
    "print(f\"{len(diff_user_set)} users edit the plan with text edit or buttons\")\n",
    "print(f\"{len(tp_user_set)} users edit the plan with provided buttons\")\n",
    "print(f\"{number_user_task} times edit the plan with provided buttons\")\n",
    "print(action_dict)\n",
    "print(task_edit_freq)"
   ]
  }
 ],
 "metadata": {
  "kernelspec": {
   "display_name": "base",
   "language": "python",
   "name": "python3"
  },
  "language_info": {
   "codemirror_mode": {
    "name": "ipython",
    "version": 3
   },
   "file_extension": ".py",
   "mimetype": "text/x-python",
   "name": "python",
   "nbconvert_exporter": "python",
   "pygments_lexer": "ipython3",
   "version": "3.9.7"
  }
 },
 "nbformat": 4,
 "nbformat_minor": 2
}
