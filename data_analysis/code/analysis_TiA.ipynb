{
 "cells": [
  {
   "cell_type": "code",
   "execution_count": 3,
   "metadata": {},
   "outputs": [
    {
     "name": "stdout",
     "output_type": "stream",
     "text": [
      "248 complete the NASA-TLX\n",
      "248 complete the whole study\n",
      "{'AP-AE': 63, 'UP-AE': 61, 'AP-UE': 64, 'UP-UE': 60}\n"
     ]
    }
   ],
   "source": [
    "from util import load_user_data\n",
    "import pandas as pd\n",
    "import numpy as np\n",
    "\n",
    "from pingouin import ancova, anova\n",
    "from statsmodels.stats.multicomp import pairwise_tukeyhsd\n",
    "\n",
    "\n",
    "valid_users, tp_data = load_user_data(folder_name=\"../anonymized_data\", reserved_users=None)\n",
    "user2condition = tp_data['user2condition']\n",
    "condition_count = {}\n",
    "for user in valid_users:\n",
    "    tp_condition = user2condition[user]\n",
    "    if tp_condition not in condition_count:\n",
    "        condition_count[tp_condition] = 0\n",
    "    condition_count[tp_condition] += 1\n",
    "print(condition_count)"
   ]
  },
  {
   "cell_type": "code",
   "execution_count": 4,
   "metadata": {},
   "outputs": [],
   "source": [
    "variable_dict = {}\n",
    "trust_dimensions = [\"Reliability/Competence\", \"Understanding/Predictability\", \n",
    "                    \"Intention of Developers\", \"Trust in Automation\"]\n",
    "covariates_1 = [\"Propensity to Trust\", \"Familiarity\"]\n",
    "covariates = [\"llm_expertise\", \"assistant_expertise\"]\n",
    "all_conditions = [\"AP-AE\", \"AP-UE\", \"UP-AE\", \"UP-UE\"]\n",
    "condition_dict = {}\n",
    "for condition in all_conditions:\n",
    "    condition_dict[condition] = {}\n",
    "    for dimension in trust_dimensions:\n",
    "        condition_dict[condition][dimension] = []\n",
    "\n",
    "for dimension in trust_dimensions:\n",
    "    variable_dict[dimension] = []\n",
    "for dimension in covariates_1:\n",
    "    variable_dict[dimension] = []\n",
    "for dimension in covariates:\n",
    "    variable_dict[dimension] = []\n",
    "\n",
    "user_expertise = tp_data[\"user_expertise\"]\n",
    "trust = tp_data[\"trust_in_automation\"]\n",
    "variable_dict[\"condition\"] = []\n",
    "variable_dict[\"planning\"] = []\n",
    "variable_dict[\"execution\"] = []\n",
    "for user in valid_users:\n",
    "    tp_condition = user2condition[user]\n",
    "    if tp_condition not in all_conditions:\n",
    "        # ignore pilot study\n",
    "        continue\n",
    "    variable_dict[\"condition\"].append(tp_condition)\n",
    "    if tp_condition.startswith(\"AP\"):\n",
    "        variable_dict[\"planning\"].append(\"automatic\")\n",
    "    else:\n",
    "        variable_dict[\"planning\"].append(\"user-involved\")\n",
    "    if tp_condition.endswith(\"AE\"):\n",
    "        variable_dict[\"execution\"].append(\"automatic\")\n",
    "    else:\n",
    "        variable_dict[\"execution\"].append(\"user-involved\")\n",
    "    for dimension in trust_dimensions:\n",
    "        variable_dict[dimension].append(trust[user][dimension])\n",
    "        condition_dict[tp_condition][dimension].append(trust[user][dimension])\n",
    "    for dimension in [\"Propensity to Trust\", \"Familiarity\"]:\n",
    "        variable_dict[dimension].append(trust[user][dimension])\n",
    "    for dimension in covariates:\n",
    "        variable_dict[dimension].append(user_expertise[user][dimension])"
   ]
  },
  {
   "cell_type": "code",
   "execution_count": 5,
   "metadata": {},
   "outputs": [
    {
     "name": "stdout",
     "output_type": "stream",
     "text": [
      "Reliability/Competence 248\n",
      "Understanding/Predictability 248\n",
      "Intention of Developers 248\n",
      "Trust in Automation 248\n",
      "Propensity to Trust 248\n",
      "Familiarity 248\n",
      "llm_expertise 248\n",
      "assistant_expertise 248\n",
      "condition 248\n",
      "planning 248\n",
      "execution 248\n"
     ]
    }
   ],
   "source": [
    "for variable in variable_dict:\n",
    "    print(variable, len(variable_dict[variable]))"
   ]
  },
  {
   "cell_type": "code",
   "execution_count": 6,
   "metadata": {},
   "outputs": [
    {
     "name": "stdout",
     "output_type": "stream",
     "text": [
      "For all participants, compare with experimental conditions\n",
      "Reliability/Competence\n",
      "                 Source       SS     DF     MS      F  p-unc     n2\n",
      "0              planning    0.027    1.0  0.027  0.046  0.831  0.000\n",
      "1             execution    1.896    1.0  1.896  3.197  0.075  0.013\n",
      "2  planning * execution    0.002    1.0  0.002  0.004  0.949  0.000\n",
      "3              Residual  144.755  244.0  0.593    NaN    NaN    NaN\n",
      "AP-AE 3.587301587301588\n",
      "AP-UE 3.40625\n",
      "UP-AE 3.5601092896174866\n",
      "UP-UE 3.3916666666666666\n",
      "-----------------\n",
      "Understanding/Predictability\n",
      "                 Source      SS     DF     MS      F  p-unc     n2\n",
      "0              planning   0.690    1.0  0.690  2.181  0.141  0.009\n",
      "1             execution   0.890    1.0  0.890  2.814  0.095  0.011\n",
      "2  planning * execution   0.363    1.0  0.363  1.148  0.285  0.005\n",
      "3              Residual  77.152  244.0  0.316    NaN    NaN    NaN\n",
      "AP-AE 3.4484126984126986\n",
      "AP-UE 3.25390625\n",
      "UP-AE 3.2663934426229506\n",
      "UP-UE 3.225\n",
      "-----------------\n",
      "Intention of Developers\n",
      "                 Source       SS     DF     MS      F  p-unc     n2\n",
      "0              planning    2.218    1.0  2.218  3.422  0.066  0.014\n",
      "1             execution    0.930    1.0  0.930  1.436  0.232  0.006\n",
      "2  planning * execution    0.107    1.0  0.107  0.165  0.685  0.001\n",
      "3              Residual  158.107  244.0  0.648    NaN    NaN    NaN\n",
      "AP-AE 3.746031746031746\n",
      "AP-UE 3.6640625\n",
      "UP-AE 3.598360655737705\n",
      "UP-UE 3.433333333333333\n",
      "-----------------\n",
      "Trust in Automation\n",
      "                 Source       SS     DF     MS      F  p-unc     n2\n",
      "0              planning    0.193    1.0  0.193  0.187  0.666  0.001\n",
      "1             execution    0.066    1.0  0.066  0.064  0.800  0.000\n",
      "2  planning * execution    0.142    1.0  0.142  0.138  0.710  0.001\n",
      "3              Residual  251.000  244.0  1.029    NaN    NaN    NaN\n",
      "AP-AE 3.5873015873015874\n",
      "AP-UE 3.5078125\n",
      "UP-AE 3.4836065573770494\n",
      "UP-UE 3.5\n",
      "-----------------\n"
     ]
    }
   ],
   "source": [
    "df = pd.DataFrame(variable_dict)\n",
    "print(\"For all participants, compare with experimental conditions\")\n",
    "for dimension in trust_dimensions:\n",
    "    print(dimension)\n",
    "    aov = anova(dv=dimension, between=['planning', 'execution'], data=df, effsize='n2')\n",
    "    # aov = ancova(dv=dimension, covar=[\"Propensity to Trust\", \"Familiarity\", \"llm_expertise\", \"assistant_expertise\"], between=['planning', 'execution'], data=df, effsize='n2')\n",
    "    print(aov.round(3))\n",
    "    if aov.to_dict()['p-unc'][0] <= 0.05 / 4:\n",
    "        tukey = pairwise_tukeyhsd(endog=df[dimension], groups=df['condition'], alpha=0.0125)\n",
    "        print(tukey)\n",
    "    for condition in all_conditions:\n",
    "        print(condition, np.mean(condition_dict[condition][dimension]))\n",
    "    print(\"-\" * 17)"
   ]
  },
  {
   "cell_type": "code",
   "execution_count": null,
   "metadata": {},
   "outputs": [],
   "source": []
  }
 ],
 "metadata": {
  "kernelspec": {
   "display_name": "instruction",
   "language": "python",
   "name": "python3"
  },
  "language_info": {
   "codemirror_mode": {
    "name": "ipython",
    "version": 3
   },
   "file_extension": ".py",
   "mimetype": "text/x-python",
   "name": "python",
   "nbconvert_exporter": "python",
   "pygments_lexer": "ipython3",
   "version": "3.9.7"
  }
 },
 "nbformat": 4,
 "nbformat_minor": 2
}
