{
 "cells": [
  {
   "cell_type": "code",
   "execution_count": 1,
   "metadata": {},
   "outputs": [],
   "source": [
    "import json\n",
    "\n",
    "f = open(\"test.json\")\n",
    "data_list = []\n",
    "for line in f:\n",
    "    data_obj = json.loads(line)\n",
    "    data_list.append(data_obj)\n",
    "f.close()"
   ]
  },
  {
   "cell_type": "code",
   "execution_count": 2,
   "metadata": {},
   "outputs": [
    {
     "data": {
      "text/plain": [
       "1000"
      ]
     },
     "execution_count": 2,
     "metadata": {},
     "output_type": "execute_result"
    }
   ],
   "source": [
    "len(data_list)"
   ]
  },
  {
   "cell_type": "code",
   "execution_count": 14,
   "metadata": {},
   "outputs": [
    {
     "name": "stdout",
     "output_type": "stream",
     "text": [
      "{'Document': 117, 'Finance': 142, 'Tracking': 16, 'Restaurant': 23, 'Flight': 96, 'Hotel': 60, 'Weather': 9, 'Alarm': 104, 'Train': 86, 'Repair': 90, 'Meeting': 63, 'Account': 31, 'Travel': 52, 'Agenda': 38, 'Health': 10, 'Other': 26, 'News': 3, 'Cleaning': 17, 'Rental': 4, 'Job': 6, 'Movie': 3, 'Music': 4}\n"
     ]
    }
   ],
   "source": [
    "domain_ct = {}\n",
    "domain_tools = {}\n",
    "domain_tool_dict = {}\n",
    "for item in data_list:\n",
    "    tp_domain = item[\"domain\"]\n",
    "    tools = item[\"tools\"]\n",
    "    if tp_domain not in domain_ct:\n",
    "        domain_ct[tp_domain] = 0\n",
    "        domain_tools[tp_domain] = set()\n",
    "        domain_tool_dict[tp_domain] = {}\n",
    "        # print(json.dumps(item, indent=4))\n",
    "    # print(tools)\n",
    "    for tool in tools:\n",
    "        tool_name = tool[\"name\"]\n",
    "        if tool_name not in domain_tools[tp_domain]:\n",
    "            domain_tools[tp_domain].add(tool_name)\n",
    "            domain_tool_dict[tp_domain][tool_name] = tool\n",
    "    domain_ct[tp_domain] += 1\n",
    "print(domain_ct)"
   ]
  },
  {
   "cell_type": "code",
   "execution_count": 15,
   "metadata": {},
   "outputs": [
    {
     "name": "stdout",
     "output_type": "stream",
     "text": [
      "Document {'file_read', 'check_file_content', 'file_write', 'delete_specific_content', 'ssh_connect', 'server_login', 'cloud_service_login', 'file_modify', 'send_notifications', 'file_backup', 'file_delete', 'verify_file_content', 'weather_query', 'file_copy', 'rename_file', 'check_file_existence'}\n",
      "Finance {'enterprise_credit_search', 'get_loan_interest_rate', 'change_password', 'complaint_merchant', 'credit_card_debt', 'deposit_money', 'get_account_statement', 'receive_and_input_verification_code', 'secure_logout', 'search_deposit_products', 'bank_balance_query', 'weather_query', 'mortgage_calculator_tool', 'archive_file_tool', 'compare_balance_with_expense', 'get_asset_overview', 'flight_price_query', 'unemployment_rate_query', 'del_transaction', 'price_comparison_tool', 'get_transaction_history', 'fetch_net_profit', 'unemployment_rate_compare', 'get_refund_transaction_details', 'modify_transaction', 'get_last_login_info', 'domestic_remittance', 'get_exchange_rate', 'credit_card_info_retrieval', 'balance_query', 'check_delivery_status', 'deposit_product_search', 'exchange_rate_query', 'stock_price_query', 'enterprise_credit_assessment', 'company_credit_score', 'report_net_profit', 'internal_person_search', 'professional_photography_tips', 'stock_query', 'stock_buy', 'foreign_currency_sale', 'transfer_money', 'generate_kline_chart', 'calculate_exchange_amount', 'credit_card_points_query', 'detailed_inquiry', 'loan_application_time', 'customer_service', 'parenting_advice_tool', 'fixed_deposit_transaction', 'check_balance', 'find_transaction', 'account_balance_query', 'foreign_currency_query', 'purchase_fixed_deposit', 'stock_trade_query', 'company_credit_check', 'account_logout', 'currency_exchange_rate', 'confirm_appointment', 'foreign_currency_purchase', 'stock_market_trend', 'account_details', 'transfer_all_to_main_account', 'currency_conversion', 'query_balance', 'insurance_product_search', 'credit_card_progress', 'contract_content_search', 'loan_application', 'recent_transaction_query', 'stock_trend_predictor', 'generate_transaction_report', 'insurance_customer_update', 'submit_remittance', 'query_bill_details', 'special_foreign_currency_purchase', 'create_transaction', 'investment_portfolio_builder', 'account_login', 'confirm_transfer', 'calculate_total_interest', 'precious_metals_quotes_search', 'credit_card_repayment', 'get_recent_transaction', 'foreign_currency_exchange', 'deposit_product_selection', 'cash_withdrawal_reservation'}\n",
      "Tracking {'delay_delivery', 'mobile_phone_locator', 'geolocation_tracker', 'order_tracking', 'create_movement_report', 'visa_status_check', 'product_inventory_search', 'package_status_tracker', 'vehicle_tracker', 'package_status_tracking', 'mobile_number_info', 'visualize_location_data', 'mobile_number_location', 'product_catalog_create', 'export_to_pdf', 'hotel_booking_query'}\n",
      "Restaurant {'customer_service', 'special_weather_forecast_tool', 'find_recommended_dishes', 'restaurant_review_analyzer', 'submit_preorder', 'complaint_merchant', 'modify_transaction', 'get_dish_id', 'check_table_availability', 'book_restaurant', 'event_planning_tool', 'gourmet_tour_guide', 'food_recommendation', 'place_order', 'request_menu', 'get_contact_information', 'restaurant_review_tool', 'website_design_tool', 'menu_select_api', 'table_booking_api', 'book_table', 'checkout_api', 'merge_orders', 'restaurant_review', 'instant_messaging', 'order_details_api', 'confirm_payment_method', 'assign_random_table'}\n",
      "Flight {'book_flight', 'airline_policy_query', 'check_flight_availability', 'book_flight_inquiry', 'get_flight_change_policy', 'flight_selection_and_booking', 'send_ticket', 'flight_ticket_cancelling', 'select_flight_by_time', 'set_task_reminder', 'select_and_book_flight', 'confirm_reschedule_and_pay', 'confirm_ticket_change', 'check_weather', 'flight_ticket_changing', 'book_earliest_flight', 'flight_search'}\n",
      "Hotel {'complete_hotel_booking', 'hotel_availability_query', 'hotel_availability_check', 'check_hotel_existence', 'identity_verification', 'search_hotels', 'hotel_search', 'search_and_select_luxury_suite', 'hotel_info_query', 'search_luxury_hotels', 'confirm_room_price_and_policy', 'select_best_hotel', 'check_availability_and_price', 'hotel_booking_query', 'search_and_select_hotel', 'search_available_rooms', 'hotel_booking_modification', 'hotel_booking', 'check_room_availability'}\n",
      "Weather {'temperature_query', 'create_meeting_reminder', 'set_reminder', 'set_task_reminder', 'weather_query', 'online_meeting_booking'}\n",
      "Alarm {'clock_alarm_cancel', 'clock_alarm_change', 'set_single_alarm', 'clock_alarm_set', 'weather_query'}\n",
      "Train {'search_train', 'query_past_ticket', 'train_ticket_query', 'seat_availability_check', 'ticket_info_query', 'train_ticket_changing', 'identity_verification', 'train_ticket_booking', 'send_ticket', 'select_ticket', 'set_reminder', 'book_train_ticket', 'train_ticket_cancelling'}\n",
      "Repair {'send_repair_confirmation', 'provide_repair_details', 'find_official_repair_service_contact', 'find_authorized_service_provider', 'appliance_repair_cancellation', 'notify_user', 'send_repair_details', 'check_service_provider_availability', 'send_confirmation', 'check_service_provider_coverage', 'select_nearest_service_provider', 'confirm_available_appointment_times', 'finalize_appointment_time', 'check_service_center_availability', 'appliance_repair_request', 'appliance_repair_rescheduling', 'search_authorized_service_provider', 'get_service_center_working_hours', 'search_repair_provider', 'send_notifications', 'send_reminder', 'set_reminder', 'send_confirmation_message', 'select_nearest_working_day', 'appliance_repair_status_query', 'get_service_provider_contact', 'call_service_provider', 'check_availability_and_parts', 'online_search_repair_service', 'find_nearest_service_center', 'ensure_appointment_confirmation', 'confirm_repair_cost_and_payment'}\n",
      "Meeting {'book_and_pay_for_meeting_room', 'check_meeting_room_availability', 'arrange_technical_staff', 'add_calendar_note', 'send_meeting_invitations', 'search_and_select_meeting_room', 'send_meeting_notification', 'book_meeting_room', 'write_on_whiteboard', 'conference_room_changing', 'search_conference_rooms', 'book_online_meeting', 'calendar_annotation', 'check_weather', 'create_virtual_meeting', 'account_login', 'check_room_booking_status', 'weather_query', 'set_meeting_reminder', 'retrieve_meetings', 'create_reminder', 'share_document', 'search_available_rooms', 'assign_staff_to_meeting_room', 'create_meeting_reminder', 'conference_room_cancelling', 'conference_room_booking', 'conference_room_query', 'calendar_note', 'create_meeting_minutes'}\n",
      "Account {'account_login', 'check_account_functionality', 'account_logout', 'view_login_records', 'update_account_info'}\n",
      "Travel {'search_train', 'book_flight', 'book_vehicle', 'car_rental_changing', 'special_weather_forecast_tool', 'ingredient_delivery_tool', 'train_ticket_booking', 'scenic_spot_ticket_search', 'souvenir_purchase', 'car_rental_query', 'travel_info_search', 'purchase_product', 'transportation_booking', 'business_trip_ticket_reservation', 'travel_insurance_search', 'reserve_vehicle', 'business_trip_ticket_search', 'schedule_delivery', 'travel_backpack_generator', 'travel_group_schedule', 'book_palace_ticket', 'theme_park_info_search', 'outward_reception_approval', 'travel_backpack_inventory', 'gourmet_tour_guide', 'company_vehicle_service', 'book_tour_guide', 'tour_group_search', 'submit_subsidy_application', 'search_hotels', 'tour_guide_service', 'route_planning', 'asset_checkout_approval', 'hotel_search', 'car_rental_booking', 'car_rental_cancelling', 'ride_hailing_service', 'internal_purchase', 'confirm_inclusion', 'check_weather', 'theme_park_attractions_search', 'flight_search', 'filter_insurance_with_emergency', 'submit_booking_request', 'travel_insurance_coverage', 'book_car', 'compose_rental_details_email', 'business_travel_standard_search', 'send_notifications', 'travel_route_search', 'travel_backpack_checker', 'purchase_missing_items', 'purchase_travel_insurance', 'special_vehicle_rental_service', 'trip_package_search', 'souvenir_recommender', 'travel_itinerary_planner', 'tourist_souvenir_creator', 'official_ticket_platform_search', 'car_rental_confirmation', 'travel_agency_search', 'book_ticket', 'travel_plan_maker', 'check_car_availability', 'hotel_booking', 'flight_schedule_lookup', 'track_approval_status', 'send_email', 'theme_park_ticket_search', 'airport_pickup', 'find_fastest_route'}\n",
      "Agenda {'generate_unique_id', 'set_schedule_tag', 'delete_schedule', 'edit_agenda', 'order_flowers', 'add_reminder', 'video_conference_tool', 'create_shared_calendar', 'schedule_tool', 'schedule_email', 'set_specific_ringtone', 'add_periodic_event', 'create_agenda_summary', 'set_schedule_date_range', 'create_schedule', 'add_agenda_reminder', 'advance_ticket_booking', 'agenda_sorting', 'read_agenda', 'manage_schedule', 'clock_alarm_change', 'create_agenda', 'export_calendar', 'send_meeting_invitations', 'set_schedule_priority', 'backup_agenda', 'import_agenda', 'export_document_to_pdf', 'contact_restaurant', 'book_meeting_room', 'view_schedule', 'calendar_annotation', 'schedule_sorter', 'view_agenda', 'share_schedule_permission', 'share_agenda', 'account_login', 'save_schedule', 'create_and_send_email_reminders', 'set_reminder', 'schedule_flower_delivery', 'set_todo', 'import_schedule', 'create_task', 'email_reminder', 'search_agenda', 'create_document_with_events', 'set_schedule_repetition', 'restore_agenda', 'shared_calendar', 'clock_alarm_set', 'check_room_availability', 'schedule_planner', 'set_stock_trade_instruction', 'calendar_note', 'daily_schedule_manager'}\n",
      "Health {'vision_protection_tool', 'calculate_percentage', 'nutrition_analysis', 'medicine_info_search', 'self_care_advice_search', 'special_recipe_search', 'medical_knowledge_search', 'personal_tax_calculator', 'weather_query', 'sport_activity_recorder', 'pharmacy_search'}\n",
      "Other {'file_delete', 'search_information', 'flight_detail_search', 'check_file_deleted', 'calculate_population_sum', 'product_catalog_search', 'labor_law_guide', 'appointment_info_submission', 'query_sales_status', 'inventory_check', 'system_update_check', 'test_db_connection', 'geo_location_finder', 'global_population_search', 'confirm_appointment', 'special_foreign_currency_purchase', 'website_design_tool', 'user_feedback_tool', 'smart_home_control', 'file_write', 'account_login', 'ssh_connect', 'find_config_line', 'file_modify', 'postal_code_lookup', 'background_check', 'legal_compliance_check', 'set_reminder', 'customer_review_analysis', 'update_guide_retrieve', 'social_media_activity_analyzer', 'archive_file_tool', 'pet_care_tool', 'internal_person_search', 'legal_regulation_search', 'user_review_analysis', 'compare_population', 'user_review_tracker', 'user_feedback_analysis', 'current_time_service', 'postal_code_search', 'population_info_search', 'verify_file_content', 'vulnerability_search', 'online_appointment_booking', 'flight_info_query', 'generate_comprehensive_report'}\n",
      "News {'news_headlines_generator', 'headline_news_search', 'wsj_article_search'}\n",
      "Cleaning {'home_cleaning_changing', 'filter_cleaning_service', 'check_provider_reputation', 'home_cleaning_cancelling', 'filter_good_reputation_cleaners', 'home_cleaning_booking', 'weather_query', 'send_email', 'confirm_cleaning_availability', 'home_cleaning_query'}\n",
      "Rental {'car_rental_changing', 'car_rental_booking', 'car_rental_query', 'car_rental_cancelling'}\n",
      "Job {'email_marketing_tool', 'job_hiring_tool', 'convert_document_to_pdf', 'background_check', 'part_time_job_tool', 'cover_letter_creator', 'verify_employment', 'grammar_and_spelling_checker', 'verify_education', 'job_info_search'}\n",
      "Movie {'ai_search_tool', 'advance_ticket_booking', 'daily_schedule_manager', 'movie_recommendation_tool'}\n",
      "Music {'music_discovery', 'get_artist_from_song', 'free_reading_tool', 'get_popular_songs_by_artist', 'music_playback', 'timer_stop_music'}\n"
     ]
    }
   ],
   "source": [
    "for domain in domain_tools:\n",
    "    print(domain, domain_tools[domain])\n",
    "f = open(\"skill.json\", \"w\")\n",
    "json.dump(domain_tool_dict, f, indent=4)\n",
    "f.close()"
   ]
  },
  {
   "cell_type": "code",
   "execution_count": 2,
   "metadata": {},
   "outputs": [
    {
     "name": "stdout",
     "output_type": "stream",
     "text": [
      "1000 315\n",
      "{'Document': 12, 'Finance': 75, 'Tracking': 7, 'Restaurant': 16, 'Hotel': 19, 'Alarm': 4, 'Flight': 35, 'Meeting': 21, 'Train': 19, 'Travel': 32, 'Agenda': 18, 'Repair': 12, 'Health': 4, 'Other': 19, 'News': 1, 'Cleaning': 13, 'Rental': 3, 'Job': 2, 'Account': 1, 'Music': 2}\n"
     ]
    }
   ],
   "source": [
    "# select three tasks where the steps are long and contain multiple actions\n",
    "\n",
    "task_list = []\n",
    "domain_ct = {}\n",
    "# index = 0\n",
    "domains = [\"Finance\", \"Alarm\", \"Agenda\", \"Hotel\", \"Flight\", \"Repair\"]\n",
    "for index, item in enumerate(data_list):\n",
    "    tp_domain = item[\"domain\"]\n",
    "    # if tp_domain in domains:\n",
    "    num_tool_usage = 0\n",
    "    length = len(item[\"plan\"])\n",
    "    for step in item[\"plan\"]:\n",
    "        if step[\"tool\"] == \"null\" or step[\"tool\"] == \"No tool required\":\n",
    "            continue\n",
    "        num_tool_usage += 1\n",
    "    tp_id = f\"test-{index}\"\n",
    "    item[\"id\"] = tp_id\n",
    "    # del item[\"tools\"]\n",
    "    # task_dict[tp_id] = item\n",
    "    # only keep tasks where there are at least 10 steps/sub-steps and used at least 3 toolkits\n",
    "    if length >= 10 and num_tool_usage >= 3:\n",
    "        task_list.append(item)\n",
    "        if tp_domain not in domain_ct:\n",
    "            domain_ct[tp_domain] = 0\n",
    "        domain_ct[tp_domain] += 1\n",
    "    # task_list.append((tp_id, length, num_tool_usage))\n",
    "    # item[\"id\"] = tp_id\n",
    "    # if num_tool_usage >= 4:\n",
    "    #     print(json.dumps(item, indent=4))\n",
    "# task_list.sort(key = lambda x:x[2], reverse=True)\n",
    "# print(json.dumps(task_dict[task_list[0][0]], indent=4))\n",
    "\n",
    "# f = open(\"reserved_candidates.json\", \"w\")\n",
    "# json.dump(task_list, f, indent=4)\n",
    "# f.close()\n",
    "# print(len(data_list), len(task_list))\n",
    "# print(domain_ct)"
   ]
  },
  {
   "cell_type": "code",
   "execution_count": 4,
   "metadata": {},
   "outputs": [],
   "source": [
    "selected_ids = ['test-113', 'test-149', 'test-184', 'test-200', 'test-256', 'test-271', 'test-388', 'test-497', 'test-675', 'test-859']\n",
    "# test-113, check balance for two bank accounts. Mainly login and check balance.\n",
    "f = open(\"selected_example_new.json\", \"w\")\n",
    "selected_data = []\n",
    "for index, item in enumerate(data_list):\n",
    "    tp_domain = item[\"domain\"]\n",
    "    # if tp_domain in domains:\n",
    "    num_tool_usage = 0\n",
    "    length = len(item[\"plan\"])\n",
    "    for step in item[\"plan\"]:\n",
    "        if step[\"tool\"] == \"null\" or step[\"tool\"] == \"No tool required\":\n",
    "            continue\n",
    "        num_tool_usage += 1\n",
    "    tp_id = f\"test-{index}\"\n",
    "    item[\"id\"] = tp_id\n",
    "    if tp_id in selected_ids:\n",
    "        selected_data.append(item)\n",
    "f = open(\"selected_example_new.json\", \"w\")\n",
    "json.dump(selected_data, f, indent=4)\n",
    "f.close()"
   ]
  }
 ],
 "metadata": {
  "kernelspec": {
   "display_name": "instruction",
   "language": "python",
   "name": "python3"
  },
  "language_info": {
   "codemirror_mode": {
    "name": "ipython",
    "version": 3
   },
   "file_extension": ".py",
   "mimetype": "text/x-python",
   "name": "python",
   "nbconvert_exporter": "python",
   "pygments_lexer": "ipython3",
   "version": "3.8.16"
  },
  "orig_nbformat": 4
 },
 "nbformat": 4,
 "nbformat_minor": 2
}
